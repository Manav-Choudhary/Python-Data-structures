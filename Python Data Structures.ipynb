{
 "cells": [
  {
   "cell_type": "code",
   "execution_count": 1,
   "id": "8bc4e28e",
   "metadata": {},
   "outputs": [],
   "source": [
    "#Ques 1\n",
    "\"\"\"\n",
    "Comments are used to make code user friendly.There 2 types of comments-:\n",
    "1)Single line comment represented by #\n",
    "2)Multi line comment represented by \"\"\" \"\"\"\n",
    "\n",
    "\"\"\""
   ]
  },
  {
   "cell_type": "code",
   "execution_count": 3,
   "id": "019dbad0",
   "metadata": {},
   "outputs": [
    {
     "name": "stdout",
     "output_type": "stream",
     "text": [
      "<class 'str'>\n",
      "<class 'str'>\n",
      "<class 'list'>\n",
      "<class 'int'>\n"
     ]
    }
   ],
   "source": [
    "#Ques 2\n",
    "#Variables are named memory location ex a=2 here we are assigning a value 2 to variable a"
   ]
  },
  {
   "cell_type": "code",
   "execution_count": 1,
   "id": "4a4eeab6",
   "metadata": {},
   "outputs": [
    {
     "name": "stdout",
     "output_type": "stream",
     "text": [
      "<class 'str'>\n",
      "<class 'int'>\n"
     ]
    }
   ],
   "source": [
    "#Ques 3\n",
    "a='123'\n",
    "print(type(a))\n",
    "a=int(a)\n",
    "print(type(a))"
   ]
  },
  {
   "cell_type": "code",
   "execution_count": 12,
   "id": "e748ee7d",
   "metadata": {},
   "outputs": [],
   "source": [
    "#Ques 4\n",
    "#Write a sample code in a text file and saved it with a .py extension\n",
    "#Open command prompt write python file_location and press enter code gets executed\n",
    "#Example C:\\Users\\pc>python \"C:\\Users\\pc\\Desktop\\txt.py\"\n"
   ]
  },
  {
   "cell_type": "code",
   "execution_count": 2,
   "id": "5130af17",
   "metadata": {},
   "outputs": [
    {
     "data": {
      "text/plain": [
       "[2, 3]"
      ]
     },
     "execution_count": 2,
     "metadata": {},
     "output_type": "execute_result"
    }
   ],
   "source": [
    "#Ques 5\n",
    "my_list=[1,2,3,4,5]\n",
    "my_list[1:3]"
   ]
  },
  {
   "cell_type": "code",
   "execution_count": 11,
   "id": "1d997feb",
   "metadata": {},
   "outputs": [
    {
     "name": "stdout",
     "output_type": "stream",
     "text": [
      "(5+6j)\n"
     ]
    }
   ],
   "source": [
    "#Ques 6\n",
    "Z=complex(5,6)\n",
    "print(Z)"
   ]
  },
  {
   "cell_type": "code",
   "execution_count": 3,
   "id": "b947d0f6",
   "metadata": {},
   "outputs": [],
   "source": [
    "#Ques 7\n",
    "age=25"
   ]
  },
  {
   "cell_type": "code",
   "execution_count": 4,
   "id": "3a3372ea",
   "metadata": {},
   "outputs": [
    {
     "name": "stdout",
     "output_type": "stream",
     "text": [
      "<class 'float'>\n"
     ]
    }
   ],
   "source": [
    "#Ques 8\n",
    "price=9.99\n",
    "print(type(price))"
   ]
  },
  {
   "cell_type": "code",
   "execution_count": 5,
   "id": "9e1824b7",
   "metadata": {},
   "outputs": [
    {
     "name": "stdout",
     "output_type": "stream",
     "text": [
      "Please enter your Name:Manav\n",
      "Manav\n"
     ]
    }
   ],
   "source": [
    "#Ques 9\n",
    "name=input(\"Please enter your Name:\")\n",
    "print(name)"
   ]
  },
  {
   "cell_type": "code",
   "execution_count": 8,
   "id": "e883246b",
   "metadata": {},
   "outputs": [
    {
     "name": "stdout",
     "output_type": "stream",
     "text": [
      "World\n"
     ]
    }
   ],
   "source": [
    "#Ques 10\n",
    "x='Hello,World!'\n",
    "print(x[6:len(x)-1])"
   ]
  },
  {
   "cell_type": "code",
   "execution_count": 9,
   "id": "8b5eb146",
   "metadata": {},
   "outputs": [
    {
     "name": "stdout",
     "output_type": "stream",
     "text": [
      "Are you a Student?True\n",
      "True\n"
     ]
    }
   ],
   "source": [
    "#Ques 11\n",
    "is_student=bool(input(\"Are you a Student?\"))\n",
    "print(is_student)"
   ]
  },
  {
   "cell_type": "code",
   "execution_count": null,
   "id": "a835ee22",
   "metadata": {},
   "outputs": [],
   "source": []
  }
 ],
 "metadata": {
  "kernelspec": {
   "display_name": "Python 3 (ipykernel)",
   "language": "python",
   "name": "python3"
  },
  "language_info": {
   "codemirror_mode": {
    "name": "ipython",
    "version": 3
   },
   "file_extension": ".py",
   "mimetype": "text/x-python",
   "name": "python",
   "nbconvert_exporter": "python",
   "pygments_lexer": "ipython3",
   "version": "3.9.7"
  }
 },
 "nbformat": 4,
 "nbformat_minor": 5
}
